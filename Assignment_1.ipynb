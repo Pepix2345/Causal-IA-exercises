{
 "cells": [
  {
   "cell_type": "markdown",
   "metadata": {},
   "source": [
    "# 1. Data Analysis"
   ]
  },
  {
   "cell_type": "markdown",
   "metadata": {},
   "source": [
    "Librerias relevantes para el análisis"
   ]
  },
  {
   "cell_type": "code",
   "execution_count": 116,
   "metadata": {
    "vscode": {
     "languageId": "r"
    }
   },
   "outputs": [],
   "source": [
    "library(rio)\n",
    "library(ggplot2)\n",
    "library(caTools)\n",
    "library(DescTools)\n",
    "library(dplyr)\n",
    "library(Hmisc)\n",
    "library(psych)"
   ]
  },
  {
   "cell_type": "code",
   "execution_count": 117,
   "metadata": {
    "vscode": {
     "languageId": "r"
    }
   },
   "outputs": [],
   "source": [
    "url=\"https://raw.githubusercontent.com/d2cml-ai/CausalAI-Course/main/data/wage2015_subsample_inference.csv\"\n",
    "wage<-read.csv(url)"
   ]
  },
  {
   "cell_type": "markdown",
   "metadata": {},
   "source": [
    "2. Reporte de NAs\n"
   ]
  },
  {
   "cell_type": "code",
   "execution_count": 118,
   "metadata": {
    "vscode": {
     "languageId": "r"
    }
   },
   "outputs": [
    {
     "data": {
      "text/html": [
       "<style>\n",
       ".dl-inline {width: auto; margin:0; padding: 0}\n",
       ".dl-inline>dt, .dl-inline>dd {float: none; width: auto; display: inline-block}\n",
       ".dl-inline>dt::after {content: \":\\0020\"; padding-right: .5ex}\n",
       ".dl-inline>dt:not(:first-of-type) {padding-left: .5ex}\n",
       "</style><dl class=dl-inline><dt>rownames</dt><dd>0</dd><dt>wage</dt><dd>0</dd><dt>lwage</dt><dd>0</dd><dt>sex</dt><dd>0</dd><dt>shs</dt><dd>0</dd><dt>hsg</dt><dd>0</dd><dt>scl</dt><dd>0</dd><dt>clg</dt><dd>0</dd><dt>ad</dt><dd>0</dd><dt>mw</dt><dd>0</dd><dt>so</dt><dd>0</dd><dt>we</dt><dd>0</dd><dt>ne</dt><dd>0</dd><dt>exp1</dt><dd>0</dd><dt>exp2</dt><dd>0</dd><dt>exp3</dt><dd>0</dd><dt>exp4</dt><dd>0</dd><dt>occ</dt><dd>0</dd><dt>occ2</dt><dd>0</dd><dt>ind</dt><dd>0</dd><dt>ind2</dt><dd>0</dd></dl>\n"
      ],
      "text/latex": [
       "\\begin{description*}\n",
       "\\item[rownames] 0\n",
       "\\item[wage] 0\n",
       "\\item[lwage] 0\n",
       "\\item[sex] 0\n",
       "\\item[shs] 0\n",
       "\\item[hsg] 0\n",
       "\\item[scl] 0\n",
       "\\item[clg] 0\n",
       "\\item[ad] 0\n",
       "\\item[mw] 0\n",
       "\\item[so] 0\n",
       "\\item[we] 0\n",
       "\\item[ne] 0\n",
       "\\item[exp1] 0\n",
       "\\item[exp2] 0\n",
       "\\item[exp3] 0\n",
       "\\item[exp4] 0\n",
       "\\item[occ] 0\n",
       "\\item[occ2] 0\n",
       "\\item[ind] 0\n",
       "\\item[ind2] 0\n",
       "\\end{description*}\n"
      ],
      "text/markdown": [
       "rownames\n",
       ":   0wage\n",
       ":   0lwage\n",
       ":   0sex\n",
       ":   0shs\n",
       ":   0hsg\n",
       ":   0scl\n",
       ":   0clg\n",
       ":   0ad\n",
       ":   0mw\n",
       ":   0so\n",
       ":   0we\n",
       ":   0ne\n",
       ":   0exp1\n",
       ":   0exp2\n",
       ":   0exp3\n",
       ":   0exp4\n",
       ":   0occ\n",
       ":   0occ2\n",
       ":   0ind\n",
       ":   0ind2\n",
       ":   0\n",
       "\n"
      ],
      "text/plain": [
       "rownames     wage    lwage      sex      shs      hsg      scl      clg \n",
       "       0        0        0        0        0        0        0        0 \n",
       "      ad       mw       so       we       ne     exp1     exp2     exp3 \n",
       "       0        0        0        0        0        0        0        0 \n",
       "    exp4      occ     occ2      ind     ind2 \n",
       "       0        0        0        0        0 "
      ]
     },
     "metadata": {},
     "output_type": "display_data"
    }
   ],
   "source": [
    "colSums(is.na(wage))"
   ]
  },
  {
   "cell_type": "markdown",
   "metadata": {},
   "source": [
    "No existen datos perdidos en la base de datos"
   ]
  },
  {
   "cell_type": "markdown",
   "metadata": {},
   "source": [
    "### 3.  Reporte de estadísticas descriptivas"
   ]
  },
  {
   "cell_type": "code",
   "execution_count": 119,
   "metadata": {
    "vscode": {
     "languageId": "r"
    }
   },
   "outputs": [
    {
     "data": {
      "text/html": [
       "<table class=\"dataframe\">\n",
       "<caption>A psych: 21 × 13</caption>\n",
       "<thead>\n",
       "\t<tr><th></th><th scope=col>vars</th><th scope=col>n</th><th scope=col>mean</th><th scope=col>sd</th><th scope=col>median</th><th scope=col>trimmed</th><th scope=col>mad</th><th scope=col>min</th><th scope=col>max</th><th scope=col>range</th><th scope=col>skew</th><th scope=col>kurtosis</th><th scope=col>se</th></tr>\n",
       "\t<tr><th></th><th scope=col>&lt;int&gt;</th><th scope=col>&lt;dbl&gt;</th><th scope=col>&lt;dbl&gt;</th><th scope=col>&lt;dbl&gt;</th><th scope=col>&lt;dbl&gt;</th><th scope=col>&lt;dbl&gt;</th><th scope=col>&lt;dbl&gt;</th><th scope=col>&lt;dbl&gt;</th><th scope=col>&lt;dbl&gt;</th><th scope=col>&lt;dbl&gt;</th><th scope=col>&lt;dbl&gt;</th><th scope=col>&lt;dbl&gt;</th><th scope=col>&lt;dbl&gt;</th></tr>\n",
       "</thead>\n",
       "<tbody>\n",
       "\t<tr><th scope=row>rownames</th><td> 1</td><td>5150</td><td>1.563635e+04</td><td>9.700744e+03</td><td>15260.000000</td><td>1.546166e+04</td><td>12622.115100</td><td> 10.000000</td><td>3.264300e+04</td><td>32633.000000</td><td> 0.1445372</td><td> -1.21638579</td><td>1.351766e+02</td></tr>\n",
       "\t<tr><th scope=row>wage</th><td> 2</td><td>5150</td><td>2.341041e+01</td><td>2.100302e+01</td><td>   19.230769</td><td>2.053559e+01</td><td>   10.264154</td><td>  3.021978</td><td>5.288457e+02</td><td>  525.823695</td><td>10.7615297</td><td>210.91873662</td><td>2.926699e-01</td></tr>\n",
       "\t<tr><th scope=row>lwage</th><td> 3</td><td>5150</td><td>2.970787e+00</td><td>5.703848e-01</td><td>    2.956512</td><td>2.956854e+00</td><td>    0.539897</td><td>  1.105912</td><td>6.270697e+00</td><td>    5.164785</td><td> 0.3795262</td><td>  1.14948916</td><td>7.948118e-03</td></tr>\n",
       "\t<tr><th scope=row>sex</th><td> 4</td><td>5150</td><td>4.444660e-01</td><td>4.969547e-01</td><td>    0.000000</td><td>4.305825e-01</td><td>    0.000000</td><td>  0.000000</td><td>1.000000e+00</td><td>    1.000000</td><td> 0.2234538</td><td> -1.95044702</td><td>6.924894e-03</td></tr>\n",
       "\t<tr><th scope=row>shs</th><td> 5</td><td>5150</td><td>2.330097e-02</td><td>1.508723e-01</td><td>    0.000000</td><td>0.000000e+00</td><td>    0.000000</td><td>  0.000000</td><td>1.000000e+00</td><td>    1.000000</td><td> 6.3180109</td><td> 37.92462584</td><td>2.102354e-03</td></tr>\n",
       "\t<tr><th scope=row>hsg</th><td> 6</td><td>5150</td><td>2.438835e-01</td><td>4.294650e-01</td><td>    0.000000</td><td>1.798544e-01</td><td>    0.000000</td><td>  0.000000</td><td>1.000000e+00</td><td>    1.000000</td><td> 1.1924920</td><td> -0.57807485</td><td>5.984448e-03</td></tr>\n",
       "\t<tr><th scope=row>scl</th><td> 7</td><td>5150</td><td>2.780583e-01</td><td>4.480858e-01</td><td>    0.000000</td><td>2.225728e-01</td><td>    0.000000</td><td>  0.000000</td><td>1.000000e+00</td><td>    1.000000</td><td> 0.9904294</td><td> -1.01924743</td><td>6.243923e-03</td></tr>\n",
       "\t<tr><th scope=row>clg</th><td> 8</td><td>5150</td><td>3.176699e-01</td><td>4.656155e-01</td><td>    0.000000</td><td>2.720874e-01</td><td>    0.000000</td><td>  0.000000</td><td>1.000000e+00</td><td>    1.000000</td><td> 0.7830267</td><td> -1.38713847</td><td>6.488194e-03</td></tr>\n",
       "\t<tr><th scope=row>ad</th><td> 9</td><td>5150</td><td>1.370874e-01</td><td>3.439730e-01</td><td>    0.000000</td><td>4.635922e-02</td><td>    0.000000</td><td>  0.000000</td><td>1.000000e+00</td><td>    1.000000</td><td> 2.1097132</td><td>  2.45136580</td><td>4.793146e-03</td></tr>\n",
       "\t<tr><th scope=row>mw</th><td>10</td><td>5150</td><td>2.596117e-01</td><td>4.384641e-01</td><td>    0.000000</td><td>1.995146e-01</td><td>    0.000000</td><td>  0.000000</td><td>1.000000e+00</td><td>    1.000000</td><td> 1.0962889</td><td> -0.79830548</td><td>6.109848e-03</td></tr>\n",
       "\t<tr><th scope=row>so</th><td>11</td><td>5150</td><td>2.965049e-01</td><td>4.567606e-01</td><td>    0.000000</td><td>2.456311e-01</td><td>    0.000000</td><td>  0.000000</td><td>1.000000e+00</td><td>    1.000000</td><td> 0.8908633</td><td> -1.20659669</td><td>6.364804e-03</td></tr>\n",
       "\t<tr><th scope=row>we</th><td>12</td><td>5150</td><td>2.161165e-01</td><td>4.116346e-01</td><td>    0.000000</td><td>1.451456e-01</td><td>    0.000000</td><td>  0.000000</td><td>1.000000e+00</td><td>    1.000000</td><td> 1.3790306</td><td> -0.09829356</td><td>5.735989e-03</td></tr>\n",
       "\t<tr><th scope=row>ne</th><td>13</td><td>5150</td><td>2.277670e-01</td><td>4.194322e-01</td><td>    0.000000</td><td>1.597087e-01</td><td>    0.000000</td><td>  0.000000</td><td>1.000000e+00</td><td>    1.000000</td><td> 1.2978506</td><td> -0.31564500</td><td>5.844645e-03</td></tr>\n",
       "\t<tr><th scope=row>exp1</th><td>14</td><td>5150</td><td>1.376058e+01</td><td>1.060947e+01</td><td>   10.000000</td><td>1.261080e+01</td><td>    8.895600</td><td>  0.000000</td><td>4.700000e+01</td><td>   47.000000</td><td> 0.8243519</td><td> -0.37320088</td><td>1.478393e-01</td></tr>\n",
       "\t<tr><th scope=row>exp2</th><td>15</td><td>5150</td><td>3.018925e+00</td><td>4.000904e+00</td><td>    1.000000</td><td>2.195211e+00</td><td>    1.349166</td><td>  0.000000</td><td>2.209000e+01</td><td>   22.090000</td><td> 1.6435529</td><td>  1.94297633</td><td>5.575124e-02</td></tr>\n",
       "\t<tr><th scope=row>exp3</th><td>16</td><td>5150</td><td>8.235867e+00</td><td>1.448896e+01</td><td>    1.000000</td><td>4.632417e+00</td><td>    1.470739</td><td>  0.000000</td><td>1.038230e+02</td><td>  103.823000</td><td> 2.3217862</td><td>  5.35155309</td><td>2.018988e-01</td></tr>\n",
       "\t<tr><th scope=row>exp4</th><td>17</td><td>5150</td><td>2.511804e+01</td><td>5.353022e+01</td><td>    1.000000</td><td>1.087759e+01</td><td>    1.482452</td><td>  0.000000</td><td>4.879681e+02</td><td>  487.968100</td><td> 2.9923560</td><td> 10.17782024</td><td>7.459255e-01</td></tr>\n",
       "\t<tr><th scope=row>occ</th><td>18</td><td>5150</td><td>5.310737e+03</td><td>1.187436e+04</td><td> 4040.000000</td><td>3.818353e+03</td><td> 2816.940000</td><td> 10.000000</td><td>1.000000e+05</td><td>99990.000000</td><td> 7.4676159</td><td> 56.67967275</td><td>1.654651e+02</td></tr>\n",
       "\t<tr><th scope=row>occ2</th><td>19</td><td>5150</td><td>1.167087e+01</td><td>6.966684e+00</td><td>   13.000000</td><td>1.178277e+01</td><td>    7.413000</td><td>  1.000000</td><td>2.200000e+01</td><td>   21.000000</td><td>-0.2323432</td><td> -1.32512585</td><td>9.707838e-02</td></tr>\n",
       "\t<tr><th scope=row>ind</th><td>20</td><td>5150</td><td>6.629155e+03</td><td>5.333444e+03</td><td> 7370.000000</td><td>6.724626e+03</td><td> 1912.554000</td><td>370.000000</td><td>1.000000e+05</td><td>99630.000000</td><td>13.4106511</td><td>234.27639832</td><td>7.431973e+01</td></tr>\n",
       "\t<tr><th scope=row>ind2</th><td>21</td><td>5150</td><td>1.331689e+01</td><td>5.701019e+00</td><td>   14.000000</td><td>1.345170e+01</td><td>    7.413000</td><td>  2.000000</td><td>2.200000e+01</td><td>   20.000000</td><td>-0.1919076</td><td> -1.21131213</td><td>7.944176e-02</td></tr>\n",
       "</tbody>\n",
       "</table>\n"
      ],
      "text/latex": [
       "A psych: 21 × 13\n",
       "\\begin{tabular}{r|lllllllllllll}\n",
       "  & vars & n & mean & sd & median & trimmed & mad & min & max & range & skew & kurtosis & se\\\\\n",
       "  & <int> & <dbl> & <dbl> & <dbl> & <dbl> & <dbl> & <dbl> & <dbl> & <dbl> & <dbl> & <dbl> & <dbl> & <dbl>\\\\\n",
       "\\hline\n",
       "\trownames &  1 & 5150 & 1.563635e+04 & 9.700744e+03 & 15260.000000 & 1.546166e+04 & 12622.115100 &  10.000000 & 3.264300e+04 & 32633.000000 &  0.1445372 &  -1.21638579 & 1.351766e+02\\\\\n",
       "\twage &  2 & 5150 & 2.341041e+01 & 2.100302e+01 &    19.230769 & 2.053559e+01 &    10.264154 &   3.021978 & 5.288457e+02 &   525.823695 & 10.7615297 & 210.91873662 & 2.926699e-01\\\\\n",
       "\tlwage &  3 & 5150 & 2.970787e+00 & 5.703848e-01 &     2.956512 & 2.956854e+00 &     0.539897 &   1.105912 & 6.270697e+00 &     5.164785 &  0.3795262 &   1.14948916 & 7.948118e-03\\\\\n",
       "\tsex &  4 & 5150 & 4.444660e-01 & 4.969547e-01 &     0.000000 & 4.305825e-01 &     0.000000 &   0.000000 & 1.000000e+00 &     1.000000 &  0.2234538 &  -1.95044702 & 6.924894e-03\\\\\n",
       "\tshs &  5 & 5150 & 2.330097e-02 & 1.508723e-01 &     0.000000 & 0.000000e+00 &     0.000000 &   0.000000 & 1.000000e+00 &     1.000000 &  6.3180109 &  37.92462584 & 2.102354e-03\\\\\n",
       "\thsg &  6 & 5150 & 2.438835e-01 & 4.294650e-01 &     0.000000 & 1.798544e-01 &     0.000000 &   0.000000 & 1.000000e+00 &     1.000000 &  1.1924920 &  -0.57807485 & 5.984448e-03\\\\\n",
       "\tscl &  7 & 5150 & 2.780583e-01 & 4.480858e-01 &     0.000000 & 2.225728e-01 &     0.000000 &   0.000000 & 1.000000e+00 &     1.000000 &  0.9904294 &  -1.01924743 & 6.243923e-03\\\\\n",
       "\tclg &  8 & 5150 & 3.176699e-01 & 4.656155e-01 &     0.000000 & 2.720874e-01 &     0.000000 &   0.000000 & 1.000000e+00 &     1.000000 &  0.7830267 &  -1.38713847 & 6.488194e-03\\\\\n",
       "\tad &  9 & 5150 & 1.370874e-01 & 3.439730e-01 &     0.000000 & 4.635922e-02 &     0.000000 &   0.000000 & 1.000000e+00 &     1.000000 &  2.1097132 &   2.45136580 & 4.793146e-03\\\\\n",
       "\tmw & 10 & 5150 & 2.596117e-01 & 4.384641e-01 &     0.000000 & 1.995146e-01 &     0.000000 &   0.000000 & 1.000000e+00 &     1.000000 &  1.0962889 &  -0.79830548 & 6.109848e-03\\\\\n",
       "\tso & 11 & 5150 & 2.965049e-01 & 4.567606e-01 &     0.000000 & 2.456311e-01 &     0.000000 &   0.000000 & 1.000000e+00 &     1.000000 &  0.8908633 &  -1.20659669 & 6.364804e-03\\\\\n",
       "\twe & 12 & 5150 & 2.161165e-01 & 4.116346e-01 &     0.000000 & 1.451456e-01 &     0.000000 &   0.000000 & 1.000000e+00 &     1.000000 &  1.3790306 &  -0.09829356 & 5.735989e-03\\\\\n",
       "\tne & 13 & 5150 & 2.277670e-01 & 4.194322e-01 &     0.000000 & 1.597087e-01 &     0.000000 &   0.000000 & 1.000000e+00 &     1.000000 &  1.2978506 &  -0.31564500 & 5.844645e-03\\\\\n",
       "\texp1 & 14 & 5150 & 1.376058e+01 & 1.060947e+01 &    10.000000 & 1.261080e+01 &     8.895600 &   0.000000 & 4.700000e+01 &    47.000000 &  0.8243519 &  -0.37320088 & 1.478393e-01\\\\\n",
       "\texp2 & 15 & 5150 & 3.018925e+00 & 4.000904e+00 &     1.000000 & 2.195211e+00 &     1.349166 &   0.000000 & 2.209000e+01 &    22.090000 &  1.6435529 &   1.94297633 & 5.575124e-02\\\\\n",
       "\texp3 & 16 & 5150 & 8.235867e+00 & 1.448896e+01 &     1.000000 & 4.632417e+00 &     1.470739 &   0.000000 & 1.038230e+02 &   103.823000 &  2.3217862 &   5.35155309 & 2.018988e-01\\\\\n",
       "\texp4 & 17 & 5150 & 2.511804e+01 & 5.353022e+01 &     1.000000 & 1.087759e+01 &     1.482452 &   0.000000 & 4.879681e+02 &   487.968100 &  2.9923560 &  10.17782024 & 7.459255e-01\\\\\n",
       "\tocc & 18 & 5150 & 5.310737e+03 & 1.187436e+04 &  4040.000000 & 3.818353e+03 &  2816.940000 &  10.000000 & 1.000000e+05 & 99990.000000 &  7.4676159 &  56.67967275 & 1.654651e+02\\\\\n",
       "\tocc2 & 19 & 5150 & 1.167087e+01 & 6.966684e+00 &    13.000000 & 1.178277e+01 &     7.413000 &   1.000000 & 2.200000e+01 &    21.000000 & -0.2323432 &  -1.32512585 & 9.707838e-02\\\\\n",
       "\tind & 20 & 5150 & 6.629155e+03 & 5.333444e+03 &  7370.000000 & 6.724626e+03 &  1912.554000 & 370.000000 & 1.000000e+05 & 99630.000000 & 13.4106511 & 234.27639832 & 7.431973e+01\\\\\n",
       "\tind2 & 21 & 5150 & 1.331689e+01 & 5.701019e+00 &    14.000000 & 1.345170e+01 &     7.413000 &   2.000000 & 2.200000e+01 &    20.000000 & -0.1919076 &  -1.21131213 & 7.944176e-02\\\\\n",
       "\\end{tabular}\n"
      ],
      "text/markdown": [
       "\n",
       "A psych: 21 × 13\n",
       "\n",
       "| <!--/--> | vars &lt;int&gt; | n &lt;dbl&gt; | mean &lt;dbl&gt; | sd &lt;dbl&gt; | median &lt;dbl&gt; | trimmed &lt;dbl&gt; | mad &lt;dbl&gt; | min &lt;dbl&gt; | max &lt;dbl&gt; | range &lt;dbl&gt; | skew &lt;dbl&gt; | kurtosis &lt;dbl&gt; | se &lt;dbl&gt; |\n",
       "|---|---|---|---|---|---|---|---|---|---|---|---|---|---|\n",
       "| rownames |  1 | 5150 | 1.563635e+04 | 9.700744e+03 | 15260.000000 | 1.546166e+04 | 12622.115100 |  10.000000 | 3.264300e+04 | 32633.000000 |  0.1445372 |  -1.21638579 | 1.351766e+02 |\n",
       "| wage |  2 | 5150 | 2.341041e+01 | 2.100302e+01 |    19.230769 | 2.053559e+01 |    10.264154 |   3.021978 | 5.288457e+02 |   525.823695 | 10.7615297 | 210.91873662 | 2.926699e-01 |\n",
       "| lwage |  3 | 5150 | 2.970787e+00 | 5.703848e-01 |     2.956512 | 2.956854e+00 |     0.539897 |   1.105912 | 6.270697e+00 |     5.164785 |  0.3795262 |   1.14948916 | 7.948118e-03 |\n",
       "| sex |  4 | 5150 | 4.444660e-01 | 4.969547e-01 |     0.000000 | 4.305825e-01 |     0.000000 |   0.000000 | 1.000000e+00 |     1.000000 |  0.2234538 |  -1.95044702 | 6.924894e-03 |\n",
       "| shs |  5 | 5150 | 2.330097e-02 | 1.508723e-01 |     0.000000 | 0.000000e+00 |     0.000000 |   0.000000 | 1.000000e+00 |     1.000000 |  6.3180109 |  37.92462584 | 2.102354e-03 |\n",
       "| hsg |  6 | 5150 | 2.438835e-01 | 4.294650e-01 |     0.000000 | 1.798544e-01 |     0.000000 |   0.000000 | 1.000000e+00 |     1.000000 |  1.1924920 |  -0.57807485 | 5.984448e-03 |\n",
       "| scl |  7 | 5150 | 2.780583e-01 | 4.480858e-01 |     0.000000 | 2.225728e-01 |     0.000000 |   0.000000 | 1.000000e+00 |     1.000000 |  0.9904294 |  -1.01924743 | 6.243923e-03 |\n",
       "| clg |  8 | 5150 | 3.176699e-01 | 4.656155e-01 |     0.000000 | 2.720874e-01 |     0.000000 |   0.000000 | 1.000000e+00 |     1.000000 |  0.7830267 |  -1.38713847 | 6.488194e-03 |\n",
       "| ad |  9 | 5150 | 1.370874e-01 | 3.439730e-01 |     0.000000 | 4.635922e-02 |     0.000000 |   0.000000 | 1.000000e+00 |     1.000000 |  2.1097132 |   2.45136580 | 4.793146e-03 |\n",
       "| mw | 10 | 5150 | 2.596117e-01 | 4.384641e-01 |     0.000000 | 1.995146e-01 |     0.000000 |   0.000000 | 1.000000e+00 |     1.000000 |  1.0962889 |  -0.79830548 | 6.109848e-03 |\n",
       "| so | 11 | 5150 | 2.965049e-01 | 4.567606e-01 |     0.000000 | 2.456311e-01 |     0.000000 |   0.000000 | 1.000000e+00 |     1.000000 |  0.8908633 |  -1.20659669 | 6.364804e-03 |\n",
       "| we | 12 | 5150 | 2.161165e-01 | 4.116346e-01 |     0.000000 | 1.451456e-01 |     0.000000 |   0.000000 | 1.000000e+00 |     1.000000 |  1.3790306 |  -0.09829356 | 5.735989e-03 |\n",
       "| ne | 13 | 5150 | 2.277670e-01 | 4.194322e-01 |     0.000000 | 1.597087e-01 |     0.000000 |   0.000000 | 1.000000e+00 |     1.000000 |  1.2978506 |  -0.31564500 | 5.844645e-03 |\n",
       "| exp1 | 14 | 5150 | 1.376058e+01 | 1.060947e+01 |    10.000000 | 1.261080e+01 |     8.895600 |   0.000000 | 4.700000e+01 |    47.000000 |  0.8243519 |  -0.37320088 | 1.478393e-01 |\n",
       "| exp2 | 15 | 5150 | 3.018925e+00 | 4.000904e+00 |     1.000000 | 2.195211e+00 |     1.349166 |   0.000000 | 2.209000e+01 |    22.090000 |  1.6435529 |   1.94297633 | 5.575124e-02 |\n",
       "| exp3 | 16 | 5150 | 8.235867e+00 | 1.448896e+01 |     1.000000 | 4.632417e+00 |     1.470739 |   0.000000 | 1.038230e+02 |   103.823000 |  2.3217862 |   5.35155309 | 2.018988e-01 |\n",
       "| exp4 | 17 | 5150 | 2.511804e+01 | 5.353022e+01 |     1.000000 | 1.087759e+01 |     1.482452 |   0.000000 | 4.879681e+02 |   487.968100 |  2.9923560 |  10.17782024 | 7.459255e-01 |\n",
       "| occ | 18 | 5150 | 5.310737e+03 | 1.187436e+04 |  4040.000000 | 3.818353e+03 |  2816.940000 |  10.000000 | 1.000000e+05 | 99990.000000 |  7.4676159 |  56.67967275 | 1.654651e+02 |\n",
       "| occ2 | 19 | 5150 | 1.167087e+01 | 6.966684e+00 |    13.000000 | 1.178277e+01 |     7.413000 |   1.000000 | 2.200000e+01 |    21.000000 | -0.2323432 |  -1.32512585 | 9.707838e-02 |\n",
       "| ind | 20 | 5150 | 6.629155e+03 | 5.333444e+03 |  7370.000000 | 6.724626e+03 |  1912.554000 | 370.000000 | 1.000000e+05 | 99630.000000 | 13.4106511 | 234.27639832 | 7.431973e+01 |\n",
       "| ind2 | 21 | 5150 | 1.331689e+01 | 5.701019e+00 |    14.000000 | 1.345170e+01 |     7.413000 |   2.000000 | 2.200000e+01 |    20.000000 | -0.1919076 |  -1.21131213 | 7.944176e-02 |\n",
       "\n"
      ],
      "text/plain": [
       "         vars n    mean         sd           median       trimmed     \n",
       "rownames  1   5150 1.563635e+04 9.700744e+03 15260.000000 1.546166e+04\n",
       "wage      2   5150 2.341041e+01 2.100302e+01    19.230769 2.053559e+01\n",
       "lwage     3   5150 2.970787e+00 5.703848e-01     2.956512 2.956854e+00\n",
       "sex       4   5150 4.444660e-01 4.969547e-01     0.000000 4.305825e-01\n",
       "shs       5   5150 2.330097e-02 1.508723e-01     0.000000 0.000000e+00\n",
       "hsg       6   5150 2.438835e-01 4.294650e-01     0.000000 1.798544e-01\n",
       "scl       7   5150 2.780583e-01 4.480858e-01     0.000000 2.225728e-01\n",
       "clg       8   5150 3.176699e-01 4.656155e-01     0.000000 2.720874e-01\n",
       "ad        9   5150 1.370874e-01 3.439730e-01     0.000000 4.635922e-02\n",
       "mw       10   5150 2.596117e-01 4.384641e-01     0.000000 1.995146e-01\n",
       "so       11   5150 2.965049e-01 4.567606e-01     0.000000 2.456311e-01\n",
       "we       12   5150 2.161165e-01 4.116346e-01     0.000000 1.451456e-01\n",
       "ne       13   5150 2.277670e-01 4.194322e-01     0.000000 1.597087e-01\n",
       "exp1     14   5150 1.376058e+01 1.060947e+01    10.000000 1.261080e+01\n",
       "exp2     15   5150 3.018925e+00 4.000904e+00     1.000000 2.195211e+00\n",
       "exp3     16   5150 8.235867e+00 1.448896e+01     1.000000 4.632417e+00\n",
       "exp4     17   5150 2.511804e+01 5.353022e+01     1.000000 1.087759e+01\n",
       "occ      18   5150 5.310737e+03 1.187436e+04  4040.000000 3.818353e+03\n",
       "occ2     19   5150 1.167087e+01 6.966684e+00    13.000000 1.178277e+01\n",
       "ind      20   5150 6.629155e+03 5.333444e+03  7370.000000 6.724626e+03\n",
       "ind2     21   5150 1.331689e+01 5.701019e+00    14.000000 1.345170e+01\n",
       "         mad          min        max          range        skew      \n",
       "rownames 12622.115100  10.000000 3.264300e+04 32633.000000  0.1445372\n",
       "wage        10.264154   3.021978 5.288457e+02   525.823695 10.7615297\n",
       "lwage        0.539897   1.105912 6.270697e+00     5.164785  0.3795262\n",
       "sex          0.000000   0.000000 1.000000e+00     1.000000  0.2234538\n",
       "shs          0.000000   0.000000 1.000000e+00     1.000000  6.3180109\n",
       "hsg          0.000000   0.000000 1.000000e+00     1.000000  1.1924920\n",
       "scl          0.000000   0.000000 1.000000e+00     1.000000  0.9904294\n",
       "clg          0.000000   0.000000 1.000000e+00     1.000000  0.7830267\n",
       "ad           0.000000   0.000000 1.000000e+00     1.000000  2.1097132\n",
       "mw           0.000000   0.000000 1.000000e+00     1.000000  1.0962889\n",
       "so           0.000000   0.000000 1.000000e+00     1.000000  0.8908633\n",
       "we           0.000000   0.000000 1.000000e+00     1.000000  1.3790306\n",
       "ne           0.000000   0.000000 1.000000e+00     1.000000  1.2978506\n",
       "exp1         8.895600   0.000000 4.700000e+01    47.000000  0.8243519\n",
       "exp2         1.349166   0.000000 2.209000e+01    22.090000  1.6435529\n",
       "exp3         1.470739   0.000000 1.038230e+02   103.823000  2.3217862\n",
       "exp4         1.482452   0.000000 4.879681e+02   487.968100  2.9923560\n",
       "occ       2816.940000  10.000000 1.000000e+05 99990.000000  7.4676159\n",
       "occ2         7.413000   1.000000 2.200000e+01    21.000000 -0.2323432\n",
       "ind       1912.554000 370.000000 1.000000e+05 99630.000000 13.4106511\n",
       "ind2         7.413000   2.000000 2.200000e+01    20.000000 -0.1919076\n",
       "         kurtosis     se          \n",
       "rownames  -1.21638579 1.351766e+02\n",
       "wage     210.91873662 2.926699e-01\n",
       "lwage      1.14948916 7.948118e-03\n",
       "sex       -1.95044702 6.924894e-03\n",
       "shs       37.92462584 2.102354e-03\n",
       "hsg       -0.57807485 5.984448e-03\n",
       "scl       -1.01924743 6.243923e-03\n",
       "clg       -1.38713847 6.488194e-03\n",
       "ad         2.45136580 4.793146e-03\n",
       "mw        -0.79830548 6.109848e-03\n",
       "so        -1.20659669 6.364804e-03\n",
       "we        -0.09829356 5.735989e-03\n",
       "ne        -0.31564500 5.844645e-03\n",
       "exp1      -0.37320088 1.478393e-01\n",
       "exp2       1.94297633 5.575124e-02\n",
       "exp3       5.35155309 2.018988e-01\n",
       "exp4      10.17782024 7.459255e-01\n",
       "occ       56.67967275 1.654651e+02\n",
       "occ2      -1.32512585 9.707838e-02\n",
       "ind      234.27639832 7.431973e+01\n",
       "ind2      -1.21131213 7.944176e-02"
      ]
     },
     "metadata": {},
     "output_type": "display_data"
    }
   ],
   "source": [
    "describe(wage)"
   ]
  },
  {
   "cell_type": "markdown",
   "metadata": {},
   "source": [
    "**Interpretación** : se puede extraer información relevante si nos enfocamos en la variable del salario del individuo. Se puede observar que el salario promedio de la muestra es de 23.41 dólares.No obstante, la desviación estándar es muy alta(21), lo cual quiere decir que existe una alta dispersión del salario con respecto al promedio. Por ejemplo, existe un individuo cuyo salario es de 528.85 dólares y otro cuyo salario es de 3.02 dólares. En aras de obtener información más estable sobre el salario se recurre a la mediana, la cual nos dice que el 50% de la muestra posee un salario entre los 3.02 y 19.23 dólares. Por último, la muestra presenta una asimetría positiva, lo cual implica que existe un mayor número de trabajadores con un salario menor al promedio."
   ]
  },
  {
   "cell_type": "markdown",
   "metadata": {},
   "source": [
    "4. Obtener el número de mujeres con un grado académico alto que poseen un salario del 25% más rico de la muestra"
   ]
  },
  {
   "cell_type": "markdown",
   "metadata": {},
   "source": [
    "4.1 Identificación de cuantiles"
   ]
  },
  {
   "cell_type": "code",
   "execution_count": 120,
   "metadata": {
    "vscode": {
     "languageId": "r"
    }
   },
   "outputs": [
    {
     "data": {
      "text/plain": [
       "   Min. 1st Qu.  Median    Mean 3rd Qu.    Max. \n",
       "  3.022  13.461  19.231  23.410  27.778 528.846 "
      ]
     },
     "metadata": {},
     "output_type": "display_data"
    }
   ],
   "source": [
    "summary(wage$wage)"
   ]
  },
  {
   "cell_type": "markdown",
   "metadata": {},
   "source": [
    "4.2 Creamos nueva variable"
   ]
  },
  {
   "cell_type": "code",
   "execution_count": 121,
   "metadata": {
    "vscode": {
     "languageId": "r"
    }
   },
   "outputs": [
    {
     "data": {
      "text/plain": [
       "\n",
       "Muy bajo     Bajo     Alto Muy alto \n",
       "    1269     1462     1132     1287 "
      ]
     },
     "metadata": {},
     "output_type": "display_data"
    }
   ],
   "source": [
    "wage$wage_ordinal=cut(wage$wage, breaks = c(0,13.461,19.231,27.778,528.846),\n",
    "                      include.lowest = T, ordered_result = T,\n",
    "                      labels=c(\"Muy bajo\", \"Bajo\", \"Alto\",\"Muy alto\"))\n",
    "table(wage$wage_ordinal)"
   ]
  },
  {
   "cell_type": "markdown",
   "metadata": {},
   "source": [
    "4.3 Creamos dos subsets que solo contengan a uno de los sexos"
   ]
  },
  {
   "cell_type": "code",
   "execution_count": 122,
   "metadata": {
    "vscode": {
     "languageId": "r"
    }
   },
   "outputs": [],
   "source": [
    "wage_only_women=wage%>%filter(sex == 1)\n",
    "wage_only_men= wage%>%filter(sex == 0)\n",
    "wage_only_women$case<- c(1)\n",
    "wage_only_men$case<- c(1)"
   ]
  },
  {
   "cell_type": "markdown",
   "metadata": {},
   "source": [
    "4.4 Agrupamos"
   ]
  },
  {
   "cell_type": "code",
   "execution_count": 123,
   "metadata": {
    "vscode": {
     "languageId": "r"
    }
   },
   "outputs": [
    {
     "name": "stderr",
     "output_type": "stream",
     "text": [
      "\u001b[1m\u001b[22m`summarise()` has grouped output by 'clg'. You can override using the `.groups`\n",
      "argument.\n"
     ]
    },
    {
     "data": {
      "text/html": [
       "<table class=\"dataframe\">\n",
       "<caption>A grouped_df: 8 × 3</caption>\n",
       "<thead>\n",
       "\t<tr><th scope=col>clg</th><th scope=col>wage_ordinal</th><th scope=col>Casos</th></tr>\n",
       "\t<tr><th scope=col>&lt;dbl&gt;</th><th scope=col>&lt;ord&gt;</th><th scope=col>&lt;dbl&gt;</th></tr>\n",
       "</thead>\n",
       "<tbody>\n",
       "\t<tr><td>0</td><td>Muy bajo</td><td>484</td></tr>\n",
       "\t<tr><td>0</td><td>Bajo    </td><td>434</td></tr>\n",
       "\t<tr><td>0</td><td>Alto    </td><td>281</td></tr>\n",
       "\t<tr><td>0</td><td>Muy alto</td><td>295</td></tr>\n",
       "\t<tr><td>1</td><td>Muy bajo</td><td>107</td></tr>\n",
       "\t<tr><td>1</td><td>Bajo    </td><td>227</td></tr>\n",
       "\t<tr><td>1</td><td>Alto    </td><td>224</td></tr>\n",
       "\t<tr><td>1</td><td>Muy alto</td><td>237</td></tr>\n",
       "</tbody>\n",
       "</table>\n"
      ],
      "text/latex": [
       "A grouped\\_df: 8 × 3\n",
       "\\begin{tabular}{lll}\n",
       " clg & wage\\_ordinal & Casos\\\\\n",
       " <dbl> & <ord> & <dbl>\\\\\n",
       "\\hline\n",
       "\t 0 & Muy bajo & 484\\\\\n",
       "\t 0 & Bajo     & 434\\\\\n",
       "\t 0 & Alto     & 281\\\\\n",
       "\t 0 & Muy alto & 295\\\\\n",
       "\t 1 & Muy bajo & 107\\\\\n",
       "\t 1 & Bajo     & 227\\\\\n",
       "\t 1 & Alto     & 224\\\\\n",
       "\t 1 & Muy alto & 237\\\\\n",
       "\\end{tabular}\n"
      ],
      "text/markdown": [
       "\n",
       "A grouped_df: 8 × 3\n",
       "\n",
       "| clg &lt;dbl&gt; | wage_ordinal &lt;ord&gt; | Casos &lt;dbl&gt; |\n",
       "|---|---|---|\n",
       "| 0 | Muy bajo | 484 |\n",
       "| 0 | Bajo     | 434 |\n",
       "| 0 | Alto     | 281 |\n",
       "| 0 | Muy alto | 295 |\n",
       "| 1 | Muy bajo | 107 |\n",
       "| 1 | Bajo     | 227 |\n",
       "| 1 | Alto     | 224 |\n",
       "| 1 | Muy alto | 237 |\n",
       "\n"
      ],
      "text/plain": [
       "  clg wage_ordinal Casos\n",
       "1 0   Muy bajo     484  \n",
       "2 0   Bajo         434  \n",
       "3 0   Alto         281  \n",
       "4 0   Muy alto     295  \n",
       "5 1   Muy bajo     107  \n",
       "6 1   Bajo         227  \n",
       "7 1   Alto         224  \n",
       "8 1   Muy alto     237  "
      ]
     },
     "metadata": {},
     "output_type": "display_data"
    }
   ],
   "source": [
    "wage_only_women%>%group_by(clg,wage_ordinal)%>%summarise(Casos=sum(case))"
   ]
  },
  {
   "cell_type": "markdown",
   "metadata": {},
   "source": [
    "\n",
    "Existen 237 mujeres con un college dregee que poseen un salario del 25% más rico de la muestra."
   ]
  },
  {
   "cell_type": "code",
   "execution_count": 124,
   "metadata": {
    "vscode": {
     "languageId": "r"
    }
   },
   "outputs": [
    {
     "name": "stderr",
     "output_type": "stream",
     "text": [
      "\u001b[1m\u001b[22m`summarise()` has grouped output by 'ad'. You can override using the `.groups`\n",
      "argument.\n"
     ]
    },
    {
     "data": {
      "text/html": [
       "<table class=\"dataframe\">\n",
       "<caption>A grouped_df: 8 × 3</caption>\n",
       "<thead>\n",
       "\t<tr><th scope=col>ad</th><th scope=col>wage_ordinal</th><th scope=col>Casos</th></tr>\n",
       "\t<tr><th scope=col>&lt;dbl&gt;</th><th scope=col>&lt;ord&gt;</th><th scope=col>&lt;dbl&gt;</th></tr>\n",
       "</thead>\n",
       "<tbody>\n",
       "\t<tr><td>0</td><td>Muy bajo</td><td>558</td></tr>\n",
       "\t<tr><td>0</td><td>Bajo    </td><td>581</td></tr>\n",
       "\t<tr><td>0</td><td>Alto    </td><td>392</td></tr>\n",
       "\t<tr><td>0</td><td>Muy alto</td><td>357</td></tr>\n",
       "\t<tr><td>1</td><td>Muy bajo</td><td> 33</td></tr>\n",
       "\t<tr><td>1</td><td>Bajo    </td><td> 80</td></tr>\n",
       "\t<tr><td>1</td><td>Alto    </td><td>113</td></tr>\n",
       "\t<tr><td>1</td><td>Muy alto</td><td>175</td></tr>\n",
       "</tbody>\n",
       "</table>\n"
      ],
      "text/latex": [
       "A grouped\\_df: 8 × 3\n",
       "\\begin{tabular}{lll}\n",
       " ad & wage\\_ordinal & Casos\\\\\n",
       " <dbl> & <ord> & <dbl>\\\\\n",
       "\\hline\n",
       "\t 0 & Muy bajo & 558\\\\\n",
       "\t 0 & Bajo     & 581\\\\\n",
       "\t 0 & Alto     & 392\\\\\n",
       "\t 0 & Muy alto & 357\\\\\n",
       "\t 1 & Muy bajo &  33\\\\\n",
       "\t 1 & Bajo     &  80\\\\\n",
       "\t 1 & Alto     & 113\\\\\n",
       "\t 1 & Muy alto & 175\\\\\n",
       "\\end{tabular}\n"
      ],
      "text/markdown": [
       "\n",
       "A grouped_df: 8 × 3\n",
       "\n",
       "| ad &lt;dbl&gt; | wage_ordinal &lt;ord&gt; | Casos &lt;dbl&gt; |\n",
       "|---|---|---|\n",
       "| 0 | Muy bajo | 558 |\n",
       "| 0 | Bajo     | 581 |\n",
       "| 0 | Alto     | 392 |\n",
       "| 0 | Muy alto | 357 |\n",
       "| 1 | Muy bajo |  33 |\n",
       "| 1 | Bajo     |  80 |\n",
       "| 1 | Alto     | 113 |\n",
       "| 1 | Muy alto | 175 |\n",
       "\n"
      ],
      "text/plain": [
       "  ad wage_ordinal Casos\n",
       "1 0  Muy bajo     558  \n",
       "2 0  Bajo         581  \n",
       "3 0  Alto         392  \n",
       "4 0  Muy alto     357  \n",
       "5 1  Muy bajo      33  \n",
       "6 1  Bajo          80  \n",
       "7 1  Alto         113  \n",
       "8 1  Muy alto     175  "
      ]
     },
     "metadata": {},
     "output_type": "display_data"
    }
   ],
   "source": [
    "wage_only_women%>%group_by(ad,wage_ordinal)%>%summarise(Casos=sum(case))"
   ]
  },
  {
   "cell_type": "markdown",
   "metadata": {},
   "source": [
    "Existen 175 mujeres con un advanced degree que poseen un salario del 25% más rico de la muestra. En ambos dataframes, las mujeres que no poseen alguno de estos grados académicos tienden a ser más propensas a tener un salario del 25% menos rico de la muestra, en comparación a las mujeres que sí poseen un mayor nivel académico. Ello nos lleva a inferir que probablemente el nivel educativo puede influir en la obtención de mejores salarios."
   ]
  },
  {
   "cell_type": "markdown",
   "metadata": {},
   "source": [
    "5. Obtener el número de hombres con un grado académico medio-bajo que poseen un salario perteneciente al 25% más rico de la muestra"
   ]
  },
  {
   "cell_type": "code",
   "execution_count": 125,
   "metadata": {
    "vscode": {
     "languageId": "r"
    }
   },
   "outputs": [
    {
     "name": "stderr",
     "output_type": "stream",
     "text": [
      "\u001b[1m\u001b[22m`summarise()` has grouped output by 'hsg'. You can override using the `.groups`\n",
      "argument.\n"
     ]
    },
    {
     "data": {
      "text/html": [
       "<table class=\"dataframe\">\n",
       "<caption>A grouped_df: 8 × 3</caption>\n",
       "<thead>\n",
       "\t<tr><th scope=col>hsg</th><th scope=col>wage_ordinal</th><th scope=col>Casos</th></tr>\n",
       "\t<tr><th scope=col>&lt;dbl&gt;</th><th scope=col>&lt;ord&gt;</th><th scope=col>&lt;dbl&gt;</th></tr>\n",
       "</thead>\n",
       "<tbody>\n",
       "\t<tr><td>0</td><td>Muy bajo</td><td>369</td></tr>\n",
       "\t<tr><td>0</td><td>Bajo    </td><td>525</td></tr>\n",
       "\t<tr><td>0</td><td>Alto    </td><td>477</td></tr>\n",
       "\t<tr><td>0</td><td>Muy alto</td><td>648</td></tr>\n",
       "\t<tr><td>1</td><td>Muy bajo</td><td>309</td></tr>\n",
       "\t<tr><td>1</td><td>Bajo    </td><td>276</td></tr>\n",
       "\t<tr><td>1</td><td>Alto    </td><td>150</td></tr>\n",
       "\t<tr><td>1</td><td>Muy alto</td><td>107</td></tr>\n",
       "</tbody>\n",
       "</table>\n"
      ],
      "text/latex": [
       "A grouped\\_df: 8 × 3\n",
       "\\begin{tabular}{lll}\n",
       " hsg & wage\\_ordinal & Casos\\\\\n",
       " <dbl> & <ord> & <dbl>\\\\\n",
       "\\hline\n",
       "\t 0 & Muy bajo & 369\\\\\n",
       "\t 0 & Bajo     & 525\\\\\n",
       "\t 0 & Alto     & 477\\\\\n",
       "\t 0 & Muy alto & 648\\\\\n",
       "\t 1 & Muy bajo & 309\\\\\n",
       "\t 1 & Bajo     & 276\\\\\n",
       "\t 1 & Alto     & 150\\\\\n",
       "\t 1 & Muy alto & 107\\\\\n",
       "\\end{tabular}\n"
      ],
      "text/markdown": [
       "\n",
       "A grouped_df: 8 × 3\n",
       "\n",
       "| hsg &lt;dbl&gt; | wage_ordinal &lt;ord&gt; | Casos &lt;dbl&gt; |\n",
       "|---|---|---|\n",
       "| 0 | Muy bajo | 369 |\n",
       "| 0 | Bajo     | 525 |\n",
       "| 0 | Alto     | 477 |\n",
       "| 0 | Muy alto | 648 |\n",
       "| 1 | Muy bajo | 309 |\n",
       "| 1 | Bajo     | 276 |\n",
       "| 1 | Alto     | 150 |\n",
       "| 1 | Muy alto | 107 |\n",
       "\n"
      ],
      "text/plain": [
       "  hsg wage_ordinal Casos\n",
       "1 0   Muy bajo     369  \n",
       "2 0   Bajo         525  \n",
       "3 0   Alto         477  \n",
       "4 0   Muy alto     648  \n",
       "5 1   Muy bajo     309  \n",
       "6 1   Bajo         276  \n",
       "7 1   Alto         150  \n",
       "8 1   Muy alto     107  "
      ]
     },
     "metadata": {},
     "output_type": "display_data"
    }
   ],
   "source": [
    "wage_only_men%>%group_by(hsg, wage_ordinal)%>%summarise(Casos=sum(case))"
   ]
  },
  {
   "cell_type": "markdown",
   "metadata": {},
   "source": [
    "Existen 107 trabajadores hombres con secundaria completa que poseen un salario perteneciente al 25% más rico de la muestra."
   ]
  },
  {
   "cell_type": "code",
   "execution_count": 126,
   "metadata": {
    "vscode": {
     "languageId": "r"
    }
   },
   "outputs": [
    {
     "name": "stderr",
     "output_type": "stream",
     "text": [
      "\u001b[1m\u001b[22m`summarise()` has grouped output by 'shs'. You can override using the `.groups`\n",
      "argument.\n"
     ]
    },
    {
     "data": {
      "text/html": [
       "<table class=\"dataframe\">\n",
       "<caption>A grouped_df: 8 × 3</caption>\n",
       "<thead>\n",
       "\t<tr><th scope=col>shs</th><th scope=col>wage_ordinal</th><th scope=col>Casos</th></tr>\n",
       "\t<tr><th scope=col>&lt;dbl&gt;</th><th scope=col>&lt;ord&gt;</th><th scope=col>&lt;dbl&gt;</th></tr>\n",
       "</thead>\n",
       "<tbody>\n",
       "\t<tr><td>0</td><td>Muy bajo</td><td>634</td></tr>\n",
       "\t<tr><td>0</td><td>Bajo    </td><td>775</td></tr>\n",
       "\t<tr><td>0</td><td>Alto    </td><td>614</td></tr>\n",
       "\t<tr><td>0</td><td>Muy alto</td><td>747</td></tr>\n",
       "\t<tr><td>1</td><td>Muy bajo</td><td> 44</td></tr>\n",
       "\t<tr><td>1</td><td>Bajo    </td><td> 26</td></tr>\n",
       "\t<tr><td>1</td><td>Alto    </td><td> 13</td></tr>\n",
       "\t<tr><td>1</td><td>Muy alto</td><td>  8</td></tr>\n",
       "</tbody>\n",
       "</table>\n"
      ],
      "text/latex": [
       "A grouped\\_df: 8 × 3\n",
       "\\begin{tabular}{lll}\n",
       " shs & wage\\_ordinal & Casos\\\\\n",
       " <dbl> & <ord> & <dbl>\\\\\n",
       "\\hline\n",
       "\t 0 & Muy bajo & 634\\\\\n",
       "\t 0 & Bajo     & 775\\\\\n",
       "\t 0 & Alto     & 614\\\\\n",
       "\t 0 & Muy alto & 747\\\\\n",
       "\t 1 & Muy bajo &  44\\\\\n",
       "\t 1 & Bajo     &  26\\\\\n",
       "\t 1 & Alto     &  13\\\\\n",
       "\t 1 & Muy alto &   8\\\\\n",
       "\\end{tabular}\n"
      ],
      "text/markdown": [
       "\n",
       "A grouped_df: 8 × 3\n",
       "\n",
       "| shs &lt;dbl&gt; | wage_ordinal &lt;ord&gt; | Casos &lt;dbl&gt; |\n",
       "|---|---|---|\n",
       "| 0 | Muy bajo | 634 |\n",
       "| 0 | Bajo     | 775 |\n",
       "| 0 | Alto     | 614 |\n",
       "| 0 | Muy alto | 747 |\n",
       "| 1 | Muy bajo |  44 |\n",
       "| 1 | Bajo     |  26 |\n",
       "| 1 | Alto     |  13 |\n",
       "| 1 | Muy alto |   8 |\n",
       "\n"
      ],
      "text/plain": [
       "  shs wage_ordinal Casos\n",
       "1 0   Muy bajo     634  \n",
       "2 0   Bajo         775  \n",
       "3 0   Alto         614  \n",
       "4 0   Muy alto     747  \n",
       "5 1   Muy bajo      44  \n",
       "6 1   Bajo          26  \n",
       "7 1   Alto          13  \n",
       "8 1   Muy alto       8  "
      ]
     },
     "metadata": {},
     "output_type": "display_data"
    }
   ],
   "source": [
    "wage_only_men%>%group_by(shs, wage_ordinal)%>%summarise(Casos=sum(case))"
   ]
  },
  {
   "cell_type": "markdown",
   "metadata": {},
   "source": [
    "Existen solo 8 trabajadores hombres con secundaria incompleta que tienen un salario perteneciente al 25% más rico de la muestra. Para ambos casos, los hombres que no poseen alguno de estos grados educativos son más propensos a poseer un salario pertenenciente al 25% más pobre. Si comparamos estos resultados con el anterior grupo, podemos observar que hay más mujeres con un salario altísimo en comparación con los hombres, pero ello puede deberse al mayor nivel educativo que poseen."
   ]
  },
  {
   "cell_type": "markdown",
   "metadata": {},
   "source": [
    "6. Creación de dos bases de datos"
   ]
  },
  {
   "cell_type": "code",
   "execution_count": 127,
   "metadata": {
    "vscode": {
     "languageId": "r"
    }
   },
   "outputs": [],
   "source": [
    "Y=wage$lwage"
   ]
  },
  {
   "cell_type": "markdown",
   "metadata": {},
   "source": [
    "8. Hacer tres matrices para nuestros predictores "
   ]
  },
  {
   "cell_type": "markdown",
   "metadata": {},
   "source": [
    "8.1"
   ]
  },
  {
   "cell_type": "code",
   "execution_count": 128,
   "metadata": {
    "vscode": {
     "languageId": "r"
    }
   },
   "outputs": [],
   "source": [
    "X_1 <- model.matrix(~ sex + hsg + scl + clg + ad + so + we + ne + exp1 + C(occ2) + C(ind2), data = wage)"
   ]
  },
  {
   "cell_type": "markdown",
   "metadata": {},
   "source": [
    "8.2"
   ]
  },
  {
   "cell_type": "code",
   "execution_count": 129,
   "metadata": {
    "vscode": {
     "languageId": "r"
    }
   },
   "outputs": [],
   "source": [
    "X_2 <- model.matrix(~ sex + (exp1 + exp2 + exp3 + exp4) * (hsg + scl + clg + ad + so + we + ne + C(occ2) + C(ind2)), data = wage)"
   ]
  },
  {
   "cell_type": "markdown",
   "metadata": {},
   "source": [
    "8.3"
   ]
  },
  {
   "cell_type": "code",
   "execution_count": 130,
   "metadata": {
    "vscode": {
     "languageId": "r"
    }
   },
   "outputs": [],
   "source": [
    "X_3<- model.matrix(~ sex + (exp1 + exp2 + exp3 + exp4 + hsg + scl + clg + ad + so + we + ne + C(occ2) + C(ind2)) ^ 2, data = wage)"
   ]
  },
  {
   "cell_type": "markdown",
   "metadata": {},
   "source": [
    "# 3. Linear Regressions "
   ]
  },
  {
   "cell_type": "markdown",
   "metadata": {},
   "source": [
    "9. "
   ]
  },
  {
   "cell_type": "code",
   "execution_count": 131,
   "metadata": {
    "vscode": {
     "languageId": "r"
    }
   },
   "outputs": [],
   "source": [
    "train_sample <- runif(length(Y)) < 0.8\n",
    "test_sample <- !train_sample"
   ]
  },
  {
   "cell_type": "markdown",
   "metadata": {},
   "source": [
    "10."
   ]
  },
  {
   "cell_type": "code",
   "execution_count": 132,
   "metadata": {
    "vscode": {
     "languageId": "r"
    }
   },
   "outputs": [],
   "source": [
    "modelo_1 <- lm(lwage ~ sex + hsg + scl + clg + ad + so + we + ne + exp1 + C(occ2) + C(ind2), data = wage, subset = train_sample)\n",
    "\n",
    "modelo_2 <- lm(lwage ~ sex + (exp1 + exp2 + exp3 + exp4) * (hsg + scl + clg + ad + so + we + ne + C(occ2) + C(ind2)), data = wage, subset = train_sample)\n",
    "\n",
    "modelo_3 <- lm(lwage ~ sex + (exp1 + exp2 + exp3 + exp4 + hsg + scl + clg + ad + so + we + ne + C(occ2) + C(ind2)) ^ 2, data = wage, subset = train_sample)"
   ]
  },
  {
   "cell_type": "markdown",
   "metadata": {},
   "source": [
    "11."
   ]
  },
  {
   "cell_type": "code",
   "execution_count": 133,
   "metadata": {
    "vscode": {
     "languageId": "r"
    }
   },
   "outputs": [
    {
     "name": "stderr",
     "output_type": "stream",
     "text": [
      "Warning message:\n",
      "\"contrasts dropped from factor C(occ2)\"\n",
      "Warning message:\n",
      "\"contrasts dropped from factor C(ind2)\"\n"
     ]
    },
    {
     "name": "stdout",
     "output_type": "stream",
     "text": [
      "[1] \"Training MSE for basic model: 0.227911222240533\"\n",
      "[1] \"Training R2 for basic model: 0.305010100067642\"\n"
     ]
    },
    {
     "name": "stdout",
     "output_type": "stream",
     "text": [
      "[1] \"Adjusted training R2 for basic model: 0.292458259016196\"\n",
      "[1] \"Testing MSE for basic model: 0.214409705587151\"\n",
      "[1] \"Testing R2 for basic model: 0.321069766559237\"\n"
     ]
    }
   ],
   "source": [
    "mse_train_1 <- mean(modelo_1$residuals ^ 2)\n",
    "r2_train_1 <- 1 - mse_train_1 / var(Y[train_sample])\n",
    "adjr2_train_1 <- 1 - length(Y) / (length(Y) - ncol(X_1)) * mse_train_1 / var(Y)\n",
    "mse_test_1 <- mean((predict(modelo_1, subset(wage, subset = test_sample)) - Y[test_sample]) ^ 2)\n",
    "r2_test_1 <- 1 - mse_test_1 / var(Y[test_sample])\n",
    "\n",
    "print(paste(\"Training MSE for basic model:\", mse_train_1))\n",
    "print(paste(\"Training R2 for basic model:\", r2_train_1))\n",
    "print(paste(\"Adjusted training R2 for basic model:\", adjr2_train_1))\n",
    "print(paste(\"Testing MSE for basic model:\", mse_test_1))\n",
    "print(paste(\"Testing R2 for basic model:\", r2_test_1))"
   ]
  },
  {
   "cell_type": "code",
   "execution_count": 134,
   "metadata": {
    "vscode": {
     "languageId": "r"
    }
   },
   "outputs": [
    {
     "name": "stderr",
     "output_type": "stream",
     "text": [
      "Warning message:\n",
      "\"contrasts dropped from factor C(occ2)\"\n",
      "Warning message:\n",
      "\"contrasts dropped from factor C(ind2)\"\n"
     ]
    },
    {
     "name": "stdout",
     "output_type": "stream",
     "text": [
      "[1] \"Training MSE for flexible model: 0.211745710212049\"\n",
      "[1] \"Training R2 for flexible model: 0.349153221883582\"\n",
      "[1] \"Adjusted training R2 for flexible model: 0.316504708951967\"\n",
      "[1] \"Testing MSE for flexible model: 0.228068223993062\"\n",
      "[1] \"Testing R2 for flexible model: 0.277819946946892\"\n"
     ]
    }
   ],
   "source": [
    "mse_train_2 <- mean(modelo_2$residuals ^ 2)\n",
    "r2_train_2 <- 1 - mse_train_2 / var(Y)\n",
    "adjr2_train_2 <- 1 - length(Y) / (length(Y) - ncol(X_2)) * mse_train_2 / var(Y)\n",
    "mse_test_2 <- mean((predict(modelo_2, subset(wage, subset = test_sample)) - Y[test_sample]) ^ 2)\n",
    "r2_test_2 <- 1 - mse_test_2 / var(Y[test_sample])\n",
    "\n",
    "print(paste(\"Training MSE for flexible model:\", mse_train_2))\n",
    "print(paste(\"Training R2 for flexible model:\", r2_train_2))\n",
    "print(paste(\"Adjusted training R2 for flexible model:\", adjr2_train_2))\n",
    "print(paste(\"Testing MSE for flexible model:\", mse_test_2))\n",
    "print(paste(\"Testing R2 for flexible model:\", r2_test_2))"
   ]
  },
  {
   "cell_type": "code",
   "execution_count": 135,
   "metadata": {
    "vscode": {
     "languageId": "r"
    }
   },
   "outputs": [
    {
     "name": "stderr",
     "output_type": "stream",
     "text": [
      "Warning message:\n",
      "\"contrasts dropped from factor C(occ2)\"\n"
     ]
    },
    {
     "name": "stderr",
     "output_type": "stream",
     "text": [
      "Warning message:\n",
      "\"contrasts dropped from factor C(ind2)\"\n",
      "Warning message in predict.lm(modelo_3, subset(wage, subset = test_sample)):\n",
      "\"prediction from rank-deficient fit; attr(*, \"non-estim\") has doubtful cases\"\n"
     ]
    },
    {
     "name": "stdout",
     "output_type": "stream",
     "text": [
      "[1] \"Training MSE for flexible model: 0.173815415819514\"\n",
      "[1] \"Training R2 for flexible model: 0.46574028224795\"\n",
      "[1] \"Adjusted training R2 for flexible model: 0.340182842584399\"\n",
      "[1] \"Testing MSE for flexible model: 0.275103938512049\"\n",
      "[1] \"Testing R2 for flexible model: 0.128880939960341\"\n"
     ]
    }
   ],
   "source": [
    "mse_train_3 <- mean(modelo_3$residuals ^ 2)\n",
    "r2_train_3 <- 1 - mse_train_3 / var(Y)\n",
    "adjr2_train_3 <- 1 - length(Y) / (length(Y) - ncol(X_3)) * mse_train_3 / var(Y)\n",
    "mse_test_3 <- mean((predict(modelo_3, subset(wage, subset = test_sample)) - Y[test_sample]) ^ 2)\n",
    "r2_test_3 <- 1 - mse_test_3 / var(Y[test_sample])\n",
    "\n",
    "print(paste(\"Training MSE for flexible model:\", mse_train_3))\n",
    "print(paste(\"Training R2 for flexible model:\", r2_train_3))\n",
    "print(paste(\"Adjusted training R2 for flexible model:\", adjr2_train_3))\n",
    "print(paste(\"Testing MSE for flexible model:\", mse_test_3))\n",
    "print(paste(\"Testing R2 for flexible model:\", r2_test_3))"
   ]
  },
  {
   "cell_type": "markdown",
   "metadata": {},
   "source": [
    "Interpretación: \n",
    "- En términos generales, los tres modelos presentan métricas de predicción más altas en el conjunto de entrenamiento, en comparación cuando se evalúan en el conjunto de prueba. \n",
    "- En el conjunto de entrenamiento, se puede observar que el modelo flexible tiene un mayor r cuadrado(0.327) en comparación con el modelo básico y el modelo más flexible. Esta tendencia se mantiene incluso cuando utilizamos el r cuadrado (0.465), el cual incluye una penalidad por la inclusión de variables irrelevantes. \n",
    "- Cuando empleamos el modelo en el conjunto de prueba, vemos que el modelo más flexible es el que posee mayor error de predicción que los otros modelos (0.275>0.228>0.214), así como un menor R2(0.129<0.278<0.321), ya que incluye una gran cantidad de variables irrelevantes.\n",
    "- Vemos que el mejor modelo en términos de predicción y de poder explicativo es el modelo básico, con un MSE de 0.214 y un R2 de 0.321.  "
   ]
  }
 ],
 "metadata": {
  "kernelspec": {
   "display_name": "R",
   "language": "R",
   "name": "ir"
  },
  "language_info": {
   "codemirror_mode": "r",
   "file_extension": ".r",
   "mimetype": "text/x-r-source",
   "name": "R",
   "pygments_lexer": "r",
   "version": "4.4.1"
  }
 },
 "nbformat": 4,
 "nbformat_minor": 2
}
